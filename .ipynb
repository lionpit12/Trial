{
 "cells": [
  {
   "cell_type": "code",
   "execution_count": 1,
   "id": "e6846e39",
   "metadata": {},
   "outputs": [],
   "source": [
    "import numpy as np, pandas as pd"
   ]
  },
  {
   "cell_type": "markdown",
   "id": "1d32461f",
   "metadata": {},
   "source": [
    "1. Даны значения величины заработной платы заемщиков банка (zp) и значения их поведенческого кредитного скоринга (ks):\n",
    "zp = [35, 45, 190, 200, 40, 70, 54, 150, 120, 110],\n",
    "ks = [401, 574, 874, 919, 459, 739, 653, 902, 746, 832].\n",
    "Найдите ковариацию этих двух величин с помощью элементарных действий, а затем с помощью функции cov из numpy\n",
    "Полученные значения должны быть равны.\n",
    "Найдите коэффициент корреляции Пирсона с помощью ковариации и среднеквадратичных отклонений двух признаков,\n",
    "а затем с использованием функций из библиотек numpy и pandas.\n",
    "Solution:\n"
   ]
  },
  {
   "cell_type": "markdown",
   "id": "8ff608a8",
   "metadata": {},
   "source": [
    "\\begin{equation}\n",
    "cov(X,Y)=\\frac{\\sum{xy}}{n}-\\bar{x}\\bar{y}\n",
    "\\end{equation}"
   ]
  },
  {
   "cell_type": "code",
   "execution_count": 68,
   "id": "39486ebd",
   "metadata": {},
   "outputs": [],
   "source": [
    "def cov(a:list, b:list):\n",
    "    \"\"\"\n",
    "    This fuction calcualtes covariance of the two set of numbers\n",
    "    \"\"\"\n",
    "    assert len(a)==len(b), print ('The datasets should be of equal size, bitch!')\n",
    "    l=len(a)\n",
    "    av_a=sum(a)/l\n",
    "    av_b=sum(b)/l\n",
    "    total=0\n",
    "    for x,y in zip(a,b):\n",
    "        total+=x*y\n",
    "    return round(total/l-av_a*av_b,2)\n",
    "        \n"
   ]
  },
  {
   "cell_type": "code",
   "execution_count": 70,
   "id": "1e04ce82",
   "metadata": {},
   "outputs": [
    {
     "data": {
      "text/plain": [
       "9157.84"
      ]
     },
     "execution_count": 70,
     "metadata": {},
     "output_type": "execute_result"
    }
   ],
   "source": [
    "%timeit\n",
    "zp = [35, 45, 190, 200, 40, 70, 54, 150, 120, 110]\n",
    "ks = [401, 574, 874, 919, 459, 739, 653, 902, 746, 832]\n",
    "cov(zp,ks)"
   ]
  },
  {
   "cell_type": "code",
   "execution_count": 45,
   "id": "562510b7",
   "metadata": {},
   "outputs": [
    {
     "data": {
      "text/plain": [
       "array([[ 3882.93333333, 10175.37777778],\n",
       "       [10175.37777778, 33854.32222222]])"
      ]
     },
     "execution_count": 45,
     "metadata": {},
     "output_type": "execute_result"
    }
   ],
   "source": [
    "np.cov(zp,ks,rowvar=True)"
   ]
  },
  {
   "cell_type": "markdown",
   "id": "281f1467",
   "metadata": {},
   "source": [
    "### коэффициент корреляции Пирсона\n",
    "\\begin{equation}\n",
    "r_{xy} = \\frac{cov_{xy}}{\\sqrt{\\sigma_x^2\\sigma_y^2}}\n",
    "\\end{equation}"
   ]
  },
  {
   "cell_type": "code",
   "execution_count": 81,
   "id": "9d8873bd",
   "metadata": {},
   "outputs": [
    {
     "data": {
      "text/plain": [
       "0.89"
      ]
     },
     "execution_count": 81,
     "metadata": {},
     "output_type": "execute_result"
    }
   ],
   "source": [
    "std_x=float(np.std(zp))\n",
    "std_y=float(np.std(ks))\n",
    "#r=cov(zp,ks)/std_x*std_y\n",
    "round(cov(zp,ks)/(std_x*std_y),2)\n"
   ]
  },
  {
   "cell_type": "markdown",
   "id": "77413735",
   "metadata": {},
   "source": [
    "2. Измерены значения IQ выборки студентов,\n",
    "обучающихся в местных технических вузах:\n",
    "131, 125, 115, 122, 131, 115, 107, 99, 125, 111.\n",
    "Известно, что в генеральной совокупности IQ распределен нормально.\n",
    "Найдите доверительный интервал для математического ожидания с надежностью 0.95.\n"
   ]
  },
  {
   "cell_type": "code",
   "execution_count": 84,
   "id": "17cc3d8c",
   "metadata": {},
   "outputs": [
    {
     "name": "stdout",
     "output_type": "stream",
     "text": [
      "Confidence level of 0.95 is between (98.09, 138.11)\n"
     ]
    }
   ],
   "source": [
    "data=[131, 125, 115, 122, 131, 115, 107, 99, 125, 111]\n",
    "mean_data=sum(data)/len(data)\n",
    "std_data=float(np.std(data))\n",
    "print(f'Confidence level of 0.95 is between {(round(mean_data-2*std_data,2),round(mean_data+2*std_data,2))}')"
   ]
  },
  {
   "cell_type": "markdown",
   "id": "3dc44470",
   "metadata": {},
   "source": [
    "\n",
    "3. Известно, что рост футболистов в сборной распределен нормально\n",
    "с дисперсией генеральной совокупности, равной 25 кв.см. Объем выборки равен 27,\n",
    "среднее выборочное составляет 174.2. Найдите доверительный интервал для математического\n",
    "ожидания с надежностью 0.95.\n"
   ]
  },
  {
   "cell_type": "markdown",
   "id": "ce0813ff",
   "metadata": {},
   "source": [
    "\\begin{equation}\n",
    "t = \\frac{\\bar X-\\mu}{\\frac{\\sigma_X}{\\sqrt{n}}}=\\frac{174.2-\\mu}{\\frac{5}{\\sqrt{27}}}=\\frac{174.2-\\mu}{0.962250}\n",
    "\\end{equation}"
   ]
  },
  {
   "cell_type": "markdown",
   "id": "d7688337",
   "metadata": {},
   "source": [
    "в таблице для t статистики находим значение параметра t с надёжностью 95% и степнью свободы 26. t =2.056 Таким образом промежуток (t-2.056, t+2.056) и будет составлять искомый доверительный интервал с надёжностью 95%. Подставим значение t из формулы получим:\n",
    "\\begin{equation}\n",
    "-2.056<\\frac{174.2-\\mu}{0.962250}<2.056\n",
    "\\end{equation}"
   ]
  },
  {
   "cell_type": "markdown",
   "id": "e71641c7",
   "metadata": {},
   "source": [
    "После преобразования получим: 172.221614<𝜇<176.178386 Таким образом интервал (172.22, 176.18) и будет доверительным интервалом для мат ожидания с надёжностью 95%"
   ]
  },
  {
   "cell_type": "code",
   "execution_count": null,
   "id": "24f85703",
   "metadata": {},
   "outputs": [],
   "source": []
  }
 ],
 "metadata": {
  "kernelspec": {
   "display_name": "Python 3 (ipykernel)",
   "language": "python",
   "name": "python3"
  },
  "language_info": {
   "codemirror_mode": {
    "name": "ipython",
    "version": 3
   },
   "file_extension": ".py",
   "mimetype": "text/x-python",
   "name": "python",
   "nbconvert_exporter": "python",
   "pygments_lexer": "ipython3",
   "version": "3.8.12"
  }
 },
 "nbformat": 4,
 "nbformat_minor": 5
}
