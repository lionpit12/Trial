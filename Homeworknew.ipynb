{
 "cells": [
  {
   "cell_type": "markdown",
   "metadata": {},
   "source": [
    "# Урок 2. Масштабирование признаков. Регуляризация. Стохастический градиентный спуск."
   ]
  },
  {
   "cell_type": "markdown",
   "metadata": {
    "toc": true
   },
   "source": [
    "<h1>План урока<span class=\"tocSkip\"></span></h1>\n",
    "<div class=\"toc\"><ul class=\"toc-item\"><li><span><a href=\"#Масштабирование-признаков\" data-toc-modified-id=\"Масштабирование-признаков-1\">Масштабирование признаков</a></span><ul class=\"toc-item\"><li><span><a href=\"#Нормализация-[0,-1]\" data-toc-modified-id=\"Нормализация-[0,-1]-1.1\">Нормализация [0, 1]</a></span></li><li><span><a href=\"#Стандартизация\" data-toc-modified-id=\"Стандартизация-1.2\">Стандартизация</a></span></li></ul></li><li><span><a href=\"#Стохастический-градиентный-спуск-и-mini-batch-градиентный-спуск\" data-toc-modified-id=\"Стохастический-градиентный-спуск-и-mini-batch-градиентный-спуск-2\">Стохастический градиентный спуск и mini-batch градиентный спуск</a></span></li><li><span><a href=\"#Регуляризация\" data-toc-modified-id=\"Регуляризация-3\">Регуляризация</a></span><ul class=\"toc-item\"><li><span><a href=\"#L1-регуляризация---Lasso\" data-toc-modified-id=\"L1-регуляризация---Lasso-3.1\">L1 регуляризация - Lasso</a></span></li><li><span><a href=\"#L2-регуляризация---Ridge\" data-toc-modified-id=\"L2-регуляризация---Ridge-3.2\">L2 регуляризация - Ridge</a></span></li></ul></li><li><span><a href=\"#Домашние-задания\" data-toc-modified-id=\"Домашние-задания-4\">Домашние задания</a></span></li></ul></div>"
   ]
  },
  {
   "cell_type": "code",
   "execution_count": 1,
   "metadata": {
    "colab": {},
    "colab_type": "code",
    "id": "_u5bV-OlT34p"
   },
   "outputs": [],
   "source": [
    "import numpy as np\n",
    "import matplotlib.pyplot as plt\n",
    "plt.rcParams.update({'font.size': 14,\n",
    "                     'xtick.labelsize': 14})"
   ]
  },
  {
   "cell_type": "markdown",
   "metadata": {},
   "source": [
    "## Масштабирование признаков"
   ]
  },
  {
   "cell_type": "code",
   "execution_count": 2,
   "metadata": {
    "colab": {},
    "colab_type": "code",
    "id": "_n6il-AZaLuA"
   },
   "outputs": [],
   "source": [
    "# К признаку стажа добавим новые признаки\n",
    "X = np.array([[1, 1, 1, 1, 1, 1, 1, 1, 1, 1],\n",
    "              [1, 1, 2, 1, 3, 0, 5, 10, 1, 2],  # стаж репетитора\n",
    "              [500, 700, 750, 600, 1450,        # средняя стоимость занятия\n",
    "               800, 1500, 2000, 450, 1000],\n",
    "              [21, 25, 27, 20, 25, 18, 35, 60, 20, 30]]).T  # возраст репетитора\n",
    "               \n",
    "y = [45, 55, 50, 59, 65, 35, 75, 80, 50, 60]    # средний балл ЕГЭ (целевая переменная)"
   ]
  },
  {
   "cell_type": "code",
   "execution_count": 3,
   "metadata": {},
   "outputs": [
    {
     "data": {
      "text/plain": [
       "array([ 5.31431473e+01,  5.13381190e+00,  6.37461212e-03, -5.44708363e-01])"
      ]
     },
     "execution_count": 3,
     "metadata": {},
     "output_type": "execute_result"
    }
   ],
   "source": [
    "# веса по МНК\n",
    "w = np.linalg.inv(X.T @ X) @ X.T @ y\n",
    "w"
   ]
  },
  {
   "cell_type": "code",
   "execution_count": 4,
   "metadata": {},
   "outputs": [
    {
     "data": {
      "text/plain": [
       "-0.544708363481611"
      ]
     },
     "execution_count": 4,
     "metadata": {},
     "output_type": "execute_result"
    }
   ],
   "source": [
    "X_1 = [1, 1, 1000, 20]\n",
    "X_2 = [1, 1, 1000, 21]\n",
    "\n",
    "X_2 @ w - X_1 @ w"
   ]
  },
  {
   "cell_type": "markdown",
   "metadata": {},
   "source": [
    "### Нормализация [0, 1]"
   ]
  },
  {
   "cell_type": "code",
   "execution_count": 5,
   "metadata": {
    "colab": {
     "base_uri": "https://localhost:8080/",
     "height": 34
    },
    "colab_type": "code",
    "id": "Ei5qeZO_aT6m",
    "outputId": "fa5f34f5-dda6-4654-eceb-8fa6877723dc"
   },
   "outputs": [
    {
     "data": {
      "text/plain": [
       "(0, 10)"
      ]
     },
     "execution_count": 5,
     "metadata": {},
     "output_type": "execute_result"
    }
   ],
   "source": [
    "X[:, 1].min(), X[:, 1].max()"
   ]
  },
  {
   "cell_type": "code",
   "execution_count": 6,
   "metadata": {
    "colab": {
     "base_uri": "https://localhost:8080/",
     "height": 34
    },
    "colab_type": "code",
    "id": "L7wsW1Q7b4Ts",
    "outputId": "3e75a3c2-eb7b-4513-af0a-0fe07b58890a"
   },
   "outputs": [
    {
     "data": {
      "text/plain": [
       "(450, 2000)"
      ]
     },
     "execution_count": 6,
     "metadata": {},
     "output_type": "execute_result"
    }
   ],
   "source": [
    "X[:, 2].min(), X[:, 2].max()"
   ]
  },
  {
   "cell_type": "code",
   "execution_count": 7,
   "metadata": {
    "colab": {
     "base_uri": "https://localhost:8080/",
     "height": 155
    },
    "colab_type": "code",
    "id": "E55S9Bzob9Xa",
    "outputId": "640d733b-404c-49cc-9763-6c8cf156c30e"
   },
   "outputs": [
    {
     "data": {
      "text/plain": [
       "array([[1.00e+00, 1.00e+00, 5.00e+02, 2.10e+01],\n",
       "       [1.00e+00, 1.00e+00, 7.00e+02, 2.50e+01],\n",
       "       [1.00e+00, 2.00e+00, 7.50e+02, 2.70e+01],\n",
       "       [1.00e+00, 1.00e+00, 6.00e+02, 2.00e+01],\n",
       "       [1.00e+00, 3.00e+00, 1.45e+03, 2.50e+01],\n",
       "       [1.00e+00, 0.00e+00, 8.00e+02, 1.80e+01],\n",
       "       [1.00e+00, 5.00e+00, 1.50e+03, 3.50e+01],\n",
       "       [1.00e+00, 1.00e+01, 2.00e+03, 6.00e+01],\n",
       "       [1.00e+00, 1.00e+00, 4.50e+02, 2.00e+01],\n",
       "       [1.00e+00, 2.00e+00, 1.00e+03, 3.00e+01]])"
      ]
     },
     "execution_count": 7,
     "metadata": {},
     "output_type": "execute_result"
    }
   ],
   "source": [
    "X_norm = X.copy()\n",
    "X_norm = X_norm.astype(np.float64)\n",
    "X_norm"
   ]
  },
  {
   "cell_type": "markdown",
   "metadata": {},
   "source": [
    "$$x_{ij} = \\frac{x_{ij} - min_{j} (x_{ij})}{max_{j} (x_{ij})-min_{j} (x_{ij})}$$"
   ]
  },
  {
   "cell_type": "code",
   "execution_count": 8,
   "metadata": {
    "colab": {
     "base_uri": "https://localhost:8080/",
     "height": 155
    },
    "colab_type": "code",
    "id": "7x-6IuPOcIo0",
    "outputId": "358cc945-0d0b-43c4-eb84-91b902fab2d9"
   },
   "outputs": [
    {
     "data": {
      "text/plain": [
       "array([0.1, 0.1, 0.2, 0.1, 0.3, 0. , 0.5, 1. , 0.1, 0.2])"
      ]
     },
     "execution_count": 8,
     "metadata": {},
     "output_type": "execute_result"
    }
   ],
   "source": [
    "X_norm[:, 1] = (X[:, 1] - X[:, 1].min()) / (X[:, 1].max() - X[:, 1].min())\n",
    "X_norm[:, 1]"
   ]
  },
  {
   "cell_type": "code",
   "execution_count": 9,
   "metadata": {
    "colab": {
     "base_uri": "https://localhost:8080/",
     "height": 155
    },
    "colab_type": "code",
    "id": "izkMRdXFcjyK",
    "outputId": "c663a777-7eac-466c-ff56-a76087f3b90b"
   },
   "outputs": [
    {
     "data": {
      "text/plain": [
       "array([0.03225806, 0.16129032, 0.19354839, 0.09677419, 0.64516129,\n",
       "       0.22580645, 0.67741935, 1.        , 0.        , 0.35483871])"
      ]
     },
     "execution_count": 9,
     "metadata": {},
     "output_type": "execute_result"
    }
   ],
   "source": [
    "X_norm[:, 2] = (X[:, 2] - X[:, 2].min()) / (X[:, 2].max() - X[:, 2].min())\n",
    "X_norm[:, 2]"
   ]
  },
  {
   "cell_type": "code",
   "execution_count": 10,
   "metadata": {},
   "outputs": [
    {
     "data": {
      "text/plain": [
       "array([0.07142857, 0.16666667, 0.21428571, 0.04761905, 0.16666667,\n",
       "       0.        , 0.4047619 , 1.        , 0.04761905, 0.28571429])"
      ]
     },
     "execution_count": 10,
     "metadata": {},
     "output_type": "execute_result"
    }
   ],
   "source": [
    "X_norm[:, 3] = (X[:, 3] - X[:, 3].min()) / (X[:, 3].max() - X[:, 3].min())\n",
    "X_norm[:, 3]"
   ]
  },
  {
   "cell_type": "markdown",
   "metadata": {
    "colab": {},
    "colab_type": "code",
    "id": "Zy63bpFfeqzu"
   },
   "source": [
    "### Стандартизация"
   ]
  },
  {
   "cell_type": "markdown",
   "metadata": {},
   "source": [
    "$$s_{ij}=\\frac{x_{ij} - \\mu_{j}}{\\sigma_{j}}$$"
   ]
  },
  {
   "cell_type": "code",
   "execution_count": 11,
   "metadata": {
    "colab": {},
    "colab_type": "code",
    "id": "M57-Pzl_f_rF"
   },
   "outputs": [
    {
     "data": {
      "text/plain": [
       "array([-0.57142857, -0.57142857, -0.21428571, -0.57142857,  0.14285714,\n",
       "       -0.92857143,  0.85714286,  2.64285714, -0.57142857, -0.21428571])"
      ]
     },
     "execution_count": 11,
     "metadata": {},
     "output_type": "execute_result"
    }
   ],
   "source": [
    "X_st = X.copy().astype(np.float64)\n",
    "\n",
    "X_st[:, 1] = (X[:, 1] - X[:, 1].mean()) / X[:, 1].std()\n",
    "X_st[:, 1]"
   ]
  },
  {
   "cell_type": "code",
   "execution_count": 12,
   "metadata": {},
   "outputs": [
    {
     "data": {
      "text/plain": [
       "(3.3306690738754695e-17, 1.0)"
      ]
     },
     "execution_count": 12,
     "metadata": {},
     "output_type": "execute_result"
    }
   ],
   "source": [
    "X_st[:, 1].mean(), X_st[:, 1].std()"
   ]
  },
  {
   "cell_type": "code",
   "execution_count": 13,
   "metadata": {
    "colab": {},
    "colab_type": "code",
    "id": "ZlJUBOyzgkJV"
   },
   "outputs": [],
   "source": [
    "def standardization(x: np.ndarray) -> np.ndarray:\n",
    "    '''Функция принимает и возвращает одномерный массив'''\n",
    "    s = (x - x.mean()) / x.std()\n",
    "    return s"
   ]
  },
  {
   "cell_type": "code",
   "execution_count": 14,
   "metadata": {
    "colab": {},
    "colab_type": "code",
    "id": "6PlDlFY0hGZA"
   },
   "outputs": [
    {
     "name": "stdout",
     "output_type": "stream",
     "text": [
      "[-0.97958969 -0.56713087 -0.46401617 -0.77336028  0.97958969 -0.36090146\n",
      "  1.08270439  2.11385144 -1.08270439  0.05155735]\n",
      "[-0.60595294 -0.264571   -0.09388003 -0.69129842 -0.264571   -0.86198939\n",
      "  0.58888384  2.72252095 -0.69129842  0.16215642]\n"
     ]
    }
   ],
   "source": [
    "X_st[:, 2] = standardization(X[:, 2])\n",
    "X_st[:, 3] = standardization(X[:, 3])\n",
    "print(X_st[:, 2])\n",
    "print(X_st[:, 3])"
   ]
  },
  {
   "cell_type": "code",
   "execution_count": 15,
   "metadata": {},
   "outputs": [
    {
     "data": {
      "image/png": "[encoded data removed]",
      "text/plain": [
       "<Figure size 864x288 with 2 Axes>"
      ]
     },
     "metadata": {
      "needs_background": "light"
     },
     "output_type": "display_data"
    }
   ],
   "source": [
    "fig = plt.figure(figsize=(12, 4))\n",
    "\n",
    "plt.subplot(1, 2, 1)\n",
    "plt.hist(X[:, 2]);\n",
    "\n",
    "plt.subplot(1, 2, 2)\n",
    "plt.hist(X_st[:, 2]);"
   ]
  },
  {
   "cell_type": "code",
   "execution_count": 16,
   "metadata": {},
   "outputs": [
    {
     "data": {
      "image/png": "[encoded data removed]",
      "text/plain": [
       "<Figure size 864x288 with 2 Axes>"
      ]
     },
     "metadata": {
      "needs_background": "light"
     },
     "output_type": "display_data"
    }
   ],
   "source": [
    "fig = plt.figure(figsize=(12, 4))\n",
    "\n",
    "plt.subplot(1, 2, 1)\n",
    "plt.hist(X[:, 2]);\n",
    "\n",
    "plt.subplot(1, 2, 2)\n",
    "plt.hist(X_norm[:, 2]);"
   ]
  },
  {
   "cell_type": "code",
   "execution_count": 42,
   "metadata": {
    "colab": {},
    "colab_type": "code",
    "id": "VDpN7UxYnrcS"
   },
   "outputs": [],
   "source": [
    "def calc_mse(y, y_pred):\n",
    "    err = np.mean((y - y_pred)**2)\n",
    "    return err\n",
    "\n",
    "# Метод градиентного спуска\n",
    "def eval_GD(X, y, iterations, eta=1e-4):\n",
    "    iters=[]\n",
    "    mistakes=[]\n",
    "    np.random.seed(42)\n",
    "    w = np.random.randn(X.shape[1])\n",
    "    n = X.shape[0]\n",
    "    for i in range(1, iterations + 1):\n",
    "        y_pred = np.dot(X, w)\n",
    "        err = calc_mse(y, y_pred)\n",
    "        w -= eta * (1/n * 2 * np.dot(X.T, (y_pred - y)))\n",
    "        if i % (iterations / 10) == 0:\n",
    "            iters.append(i)\n",
    "            mistakes.append(err)\n",
    "            print(f'{i}: weights={w}, MSE={err:.3f}')\n",
    "    return [iters,mistakes]"
   ]
  },
  {
   "cell_type": "code",
   "execution_count": 18,
   "metadata": {},
   "outputs": [
    {
     "data": {
      "text/plain": [
       "array([57.4       , 14.37467331,  3.09102963, -6.38239231])"
      ]
     },
     "execution_count": 18,
     "metadata": {},
     "output_type": "execute_result"
    }
   ],
   "source": [
    "np.linalg.inv(X_st.T @ X_st) @ X_st.T @ y"
   ]
  },
  {
   "cell_type": "code",
   "execution_count": 19,
   "metadata": {
    "colab": {
     "base_uri": "https://localhost:8080/",
     "height": 207
    },
    "colab_type": "code",
    "id": "4nsYMAGjmFlB",
    "outputId": "71a5878c-8bcd-4d73-9f43-2df2b94ecd81"
   },
   "outputs": [
    {
     "name": "stdout",
     "output_type": "stream",
     "text": [
      "MSE для МНК для данных после стандартизации \t- 41.005760899682635\n",
      "\n",
      "MSE для МНК для данных БЕЗ стандартизации \t- 41.005760899682585\n",
      "\n"
     ]
    }
   ],
   "source": [
    "w_sq_st = np.linalg.inv(X_st.T @ X_st) @ X_st.T @ y\n",
    "y_pred = np.dot(X_st, w_sq_st)\n",
    "err_sq = calc_mse(y, y_pred)\n",
    "print(f'MSE для МНК для данных после стандартизации \\t- {err_sq}\\n')\n",
    "\n",
    "w_sq = np.linalg.inv(X.T @ X) @ X.T @ y\n",
    "y_pred = np.dot(X, w_sq)\n",
    "err = calc_mse(y, y_pred)\n",
    "print(f'MSE для МНК для данных БЕЗ стандартизации \\t- {err}\\n')"
   ]
  },
  {
   "cell_type": "code",
   "execution_count": 20,
   "metadata": {
    "colab": {
     "base_uri": "https://localhost:8080/",
     "height": 207
    },
    "colab_type": "code",
    "id": "4nsYMAGjmFlB",
    "outputId": "71a5878c-8bcd-4d73-9f43-2df2b94ecd81"
   },
   "outputs": [
    {
     "name": "stdout",
     "output_type": "stream",
     "text": [
      "150: weights=[54.6517977   3.4588195   4.35039355  3.49661408], MSE=53.643\n",
      "300: weights=[57.26727276  3.96125574  4.72381728  2.6236804 ], MSE=45.021\n",
      "450: weights=[57.3935898   4.4847313   4.90444633  1.91537476], MSE=44.461\n",
      "600: weights=[57.39969041  5.00911051  4.9692014   1.31887791], MSE=44.036\n",
      "750: weights=[57.39998505  5.52235732  4.96511334  0.80068137], MSE=43.681\n",
      "900: weights=[57.39999928  6.01771784  4.92107033  0.33955253], MSE=43.374\n",
      "1050: weights=[57.39999997  6.49166101  4.85476482 -0.0781283 ], MSE=43.105\n",
      "1200: weights=[57.4         6.94260898  4.7769834  -0.46124959], MSE=42.867\n",
      "1350: weights=[57.4         7.37015514  4.69425574 -0.81575008], MSE=42.657\n",
      "1500: weights=[57.4         7.77458325  4.61049007 -1.14572061], MSE=42.470\n",
      "MSE для метода градиентного спуска для данных после стандартизации - 42.468894653910056\n",
      "\n",
      "150: weights=[nan nan nan nan], MSE=nan\n",
      "300: weights=[nan nan nan nan], MSE=nan\n",
      "450: weights=[nan nan nan nan], MSE=nan\n",
      "600: weights=[nan nan nan nan], MSE=nan\n",
      "750: weights=[nan nan nan nan], MSE=nan\n",
      "900: weights=[nan nan nan nan], MSE=nan\n",
      "1050: weights=[nan nan nan nan], MSE=nan\n",
      "1200: weights=[nan nan nan nan], MSE=nan\n",
      "1350: weights=[nan nan nan nan], MSE=nan\n",
      "1500: weights=[nan nan nan nan], MSE=nan\n",
      "MSE для метода градиентного спуска для данных БЕЗ стандартизации - nan\n",
      "\n"
     ]
    },
    {
     "name": "stderr",
     "output_type": "stream",
     "text": [
      "C:\\Users\\vmakh\\AppData\\Local\\Temp/ipykernel_53732/3908924641.py:2: RuntimeWarning: overflow encountered in square\n",
      "  err = np.mean((y - y_pred)**2)\n",
      "C:\\Users\\vmakh\\AppData\\Local\\Temp/ipykernel_53732/3908924641.py:13: RuntimeWarning: invalid value encountered in subtract\n",
      "  w -= eta * (1/n * 2 * np.dot(X.T, (y_pred - y)))\n"
     ]
    }
   ],
   "source": [
    "w_gd_st = eval_GD(X_st, y, iterations=1500, eta=1e-2)\n",
    "y_pred = np.dot(X_st, w_gd_st)\n",
    "err_st = calc_mse(y, y_pred)\n",
    "print(f'MSE для метода градиентного спуска для данных после стандартизации - {err_st}\\n')\n",
    "\n",
    "# Градиентный спуск на данных без стандартизации не сходится! \n",
    "w_gd = eval_GD(X, y, iterations=1500, eta=1e-2)\n",
    "y_pred = np.dot(X, w_gd)\n",
    "err_gd = calc_mse(y, y_pred)\n",
    "print(f'MSE для метода градиентного спуска для данных БЕЗ стандартизации - {err_gd}\\n')"
   ]
  },
  {
   "cell_type": "markdown",
   "metadata": {},
   "source": [
    "## Стохастический градиентный спуск и mini-batch градиентный спуск\n",
    "\n",
    "На каждом шаге итерации градиентный спуск вычисляет градиенты для всего обучающего набора, стохастический градиентный спуск вычисляет градиент для одного объекта, а mini-batch градиентный спуск будет отбирать небольшой набор данных (batch) и по ним вычислять градиент."
   ]
  },
  {
   "cell_type": "code",
   "execution_count": 46,
   "metadata": {},
   "outputs": [],
   "source": [
    "# SGD - стохастический градиентный спуск\n",
    "def eval_SGD(X, y, iterations, eta=1e-4):\n",
    "    iters=[]\n",
    "    mistakes=[]\n",
    "    np.random.seed(42)\n",
    "    w = np.random.randn(X.shape[1]) # начальное приближение весов\n",
    "    n = X.shape[0] # число наблюдений\n",
    "    for i in range(1, iterations + 1):\n",
    "        err = calc_mse(y, np.dot(X, w))\n",
    "        # генерируем случайный индекс объекта выборки\n",
    "        ind = np.random.randint(n)\n",
    "        y_pred = np.dot(X[ind], w)\n",
    "        w -= eta * (2 * np.dot(X[ind].T, (y_pred - y[ind])))\n",
    "        if i % (iterations / 10) == 0:\n",
    "            iters.append(i)\n",
    "            mistakes.append(err)\n",
    "            print(f'{i}: weights={w}, MSE={err:.3f}')\n",
    "    return [iters,mistakes]"
   ]
  },
  {
   "cell_type": "code",
   "execution_count": 22,
   "metadata": {
    "colab": {},
    "colab_type": "code",
    "id": "nCcMmNdQmxDp"
   },
   "outputs": [],
   "source": [
    "# mini-batch градиентный спуск\n",
    "def eval_mbGD(X, y, iterations, batch=3, eta=1e-4):\n",
    "    np.random.seed(42)\n",
    "    w = np.random.randn(X.shape[1]) # начальное приближение весов\n",
    "    n = X.shape[0] # число наблюдений\n",
    "    n_batch = n // batch # число батчей\n",
    "    if n % batch != 0:\n",
    "        n_batch += 1\n",
    "    print('Количество батчей - ', n_batch)\n",
    "    for i in range(1, iterations + 1):\n",
    "        err = calc_mse(y, np.dot(X, w))\n",
    "        for b in range(n_batch):\n",
    "            start_ = batch * b\n",
    "            end_ = batch * (b + 1)\n",
    "            X_batch = X[start_ : end_, :]\n",
    "            y_batch = y[start_ : end_]\n",
    "            y_pred = np.dot(X_batch, w)\n",
    "            w -= eta * (2/len(y_batch) * np.dot(X_batch.T, (y_pred - y_batch)))\n",
    "        if i % (iterations / 10) == 0:\n",
    "            print(f'{i}: weights={w}, MSE={err:.3f}')\n",
    "    return w, err"
   ]
  },
  {
   "cell_type": "code",
   "execution_count": 23,
   "metadata": {},
   "outputs": [
    {
     "name": "stdout",
     "output_type": "stream",
     "text": [
      "100: weights=[10.82085913  1.25017246  2.00872427  2.7761629 ], MSE=2251.619\n",
      "200: weights=[19.27186149  2.05101507  2.8052641   3.45292497], MSE=1514.940\n",
      "300: weights=[26.18957149  2.51825162  3.28026624  3.80293424], MSE=1027.491\n",
      "400: weights=[31.85217926  2.7961546   3.57177353  3.96796979], MSE=702.844\n",
      "500: weights=[36.48740201  2.96667168  3.75822973  4.02855216], MSE=485.930\n",
      "600: weights=[40.28164149  3.07634656  3.88422185  4.03040398], MSE=340.766\n",
      "700: weights=[43.38747997  3.1516116   3.97510342  3.99948108], MSE=243.540\n",
      "800: weights=[45.92981625  3.20747495  4.04530137  3.95051114], MSE=178.389\n",
      "900: weights=[48.01088834  3.25245533  4.10303492  3.89184409], MSE=134.717\n",
      "1000: weights=[49.71438487  3.29138533  4.15299613  3.82820742], MSE=105.433\n",
      "Wall time: 78.4 ms\n"
     ]
    }
   ],
   "source": [
    "%%time\n",
    "\n",
    "w = eval_GD(X_st, y, iterations=1000, eta=1e-3)"
   ]
  },
  {
   "cell_type": "code",
   "execution_count": 24,
   "metadata": {},
   "outputs": [
    {
     "name": "stdout",
     "output_type": "stream",
     "text": [
      "100: weights=[11.07823354  2.65679552  3.08558565  4.25756046], MSE=2205.712\n",
      "200: weights=[19.43052019  2.79985598  3.26331547  4.02074155], MSE=1493.199\n",
      "300: weights=[26.16290329  2.94995959  2.7520469   3.94656817], MSE=1030.222\n",
      "400: weights=[31.85323142  3.333731    3.3889441   4.39368236], MSE=702.843\n",
      "500: weights=[36.69429663  3.28437258  3.51475655  4.25535627], MSE=478.007\n",
      "600: weights=[40.45751857  3.02160859  3.44342985  3.77145543], MSE=335.378\n",
      "700: weights=[43.38107482  3.13839146  3.8530924   3.74796712], MSE=243.026\n",
      "800: weights=[45.87144601  3.31696666  4.02800762  3.94212551], MSE=179.806\n",
      "900: weights=[47.78396245  3.2799294   3.90215483  3.80780503], MSE=139.233\n",
      "1000: weights=[49.46236826  3.40631215  4.00616371  3.8085781 ], MSE=109.696\n",
      "Wall time: 142 ms\n"
     ]
    }
   ],
   "source": [
    "%%time\n",
    "\n",
    "w = eval_SGD(X_st, y, iterations=1000, eta=1e-3) "
   ]
  },
  {
   "cell_type": "code",
   "execution_count": 25,
   "metadata": {
    "colab": {
     "base_uri": "https://localhost:8080/",
     "height": 207
    },
    "colab_type": "code",
    "id": "2aXap4Vsm3GV",
    "outputId": "af0f4e17-d075-47e7-c848-44c637dadb67"
   },
   "outputs": [
    {
     "name": "stdout",
     "output_type": "stream",
     "text": [
      "Количество батчей -  1\n",
      "100: weights=[10.82085913  1.25017246  2.00872427  2.7761629 ], MSE=2251.619\n",
      "200: weights=[19.27186149  2.05101507  2.8052641   3.45292497], MSE=1514.940\n",
      "300: weights=[26.18957149  2.51825162  3.28026624  3.80293424], MSE=1027.491\n",
      "400: weights=[31.85217926  2.7961546   3.57177353  3.96796979], MSE=702.844\n",
      "500: weights=[36.48740201  2.96667168  3.75822973  4.02855216], MSE=485.930\n",
      "600: weights=[40.28164149  3.07634656  3.88422185  4.03040398], MSE=340.766\n",
      "700: weights=[43.38747997  3.1516116   3.97510342  3.99948108], MSE=243.540\n",
      "800: weights=[45.92981625  3.20747495  4.04530137  3.95051114], MSE=178.389\n",
      "900: weights=[48.01088834  3.25245533  4.10303492  3.89184409], MSE=134.717\n",
      "1000: weights=[49.71438487  3.29138533  4.15299613  3.82820742], MSE=105.433\n",
      "Wall time: 119 ms\n"
     ]
    }
   ],
   "source": [
    "%%time\n",
    "\n",
    "w = eval_mbGD(X_st, y, iterations=1000, batch=10, eta=1e-3) "
   ]
  },
  {
   "cell_type": "markdown",
   "metadata": {},
   "source": [
    "## Регуляризация"
   ]
  },
  {
   "cell_type": "markdown",
   "metadata": {
    "colab": {},
    "colab_type": "code",
    "id": "DYTxT_6OrZpe"
   },
   "source": [
    "### L1 регуляризация - Lasso"
   ]
  },
  {
   "cell_type": "markdown",
   "metadata": {},
   "source": [
    "$$\\sum^{n}_{i=1}L_i(\\vec{x}_i,{y_i},\\vec{w}) + \\lambda \\sum^{m}_{j=1}|w_{j}| \\rightarrow \\underset{w}{\\text{min}}$$"
   ]
  },
  {
   "cell_type": "markdown",
   "metadata": {
    "colab": {},
    "colab_type": "code",
    "id": "j38vId7Hvtg0"
   },
   "source": [
    "### L2 регуляризация - Ridge"
   ]
  },
  {
   "cell_type": "markdown",
   "metadata": {},
   "source": [
    "$$\\sum^{n}_{i=1}L_i(\\vec{x}_i,y_i,\\vec{w}) + \\lambda \\sum^{m}_{j=1}w_{j}^{2} \\rightarrow \\underset{w}{\\text{min}}$$"
   ]
  },
  {
   "cell_type": "code",
   "execution_count": 26,
   "metadata": {
    "colab": {},
    "colab_type": "code",
    "id": "7AVoe1Mswjni"
   },
   "outputs": [],
   "source": [
    "def eval_model_reg2(X, y, iterations, eta=1e-4, lambda_=1e-8, verbose=False):\n",
    "    np.random.seed(42)\n",
    "    w = np.random.randn(X.shape[1])\n",
    "    n = X.shape[0]\n",
    "    for i in range(1, iterations + 1):\n",
    "        y_pred = np.dot(X, w)\n",
    "        err = calc_mse(y, y_pred)\n",
    "        w -= eta * (1/n * 2 * np.dot(X.T, (y_pred - y)) + 2 * lambda_ * w)\n",
    "        if verbose and i % (iterations / 10) == 0:\n",
    "            print(f'{i}: weights={w}, MSE={err:.3f}')\n",
    "    return w"
   ]
  },
  {
   "cell_type": "code",
   "execution_count": 27,
   "metadata": {
    "colab": {
     "base_uri": "https://localhost:8080/",
     "height": 207
    },
    "colab_type": "code",
    "id": "vLJL6j8Lw6OA",
    "outputId": "84591f9f-2c7d-42fc-f2e2-5d2614be6113"
   },
   "outputs": [
    {
     "name": "stdout",
     "output_type": "stream",
     "text": [
      "100: weights=[10.81977943  1.25010672  2.00850173  2.77577844], MSE=2251.724\n",
      "200: weights=[19.26820475  2.05082063  2.80475207  3.45211794], MSE=1515.225\n",
      "300: weights=[26.18241951  2.5179572   3.27948647  3.80175618], MSE=1027.942\n",
      "400: weights=[31.84103209  2.79581186  3.57077076  3.96649432], MSE=703.417\n",
      "500: weights=[36.47205635  2.96632879  3.75704628  4.02684901], MSE=486.574\n",
      "600: weights=[40.26209948  3.07604028  3.88289004  4.02853122], MSE=341.437\n",
      "700: weights=[43.36388132  3.15136682  3.97364509  3.99748473], MSE=244.203\n",
      "800: weights=[45.90238819  3.20730676  4.0437298   3.94842715], MSE=179.020\n",
      "900: weights=[47.97990927  3.2523715   4.10135713  3.88970082], MSE=135.300\n",
      "1000: weights=[49.68015829  3.29138843  4.15121494  3.82602776], MSE=105.960\n"
     ]
    }
   ],
   "source": [
    "w = eval_model_reg2(X_st, y, iterations=1000, eta=1e-3, lambda_=0.001, verbose=True)"
   ]
  },
  {
   "cell_type": "markdown",
   "metadata": {},
   "source": [
    "Веса без регуляризации: [49.71438487  3.29138533  4.15299613  3.82820742]"
   ]
  },
  {
   "cell_type": "markdown",
   "metadata": {},
   "source": [
    "Визуализируем изменение весов при изменении коэффициента регуляризации."
   ]
  },
  {
   "cell_type": "code",
   "execution_count": 28,
   "metadata": {},
   "outputs": [],
   "source": [
    "w_list = []\n",
    "l_list = []\n",
    "error_list = []\n",
    "\n",
    "for l in np.logspace(start=-4, stop=1, num=20):\n",
    "    l_list.append(l)\n",
    "    w_new = eval_model_reg2(X_st, y, iterations=1000, eta=1e-2, lambda_=l)\n",
    "    w_list.append(w_new)\n",
    "    error_list.append(calc_mse(y, np.dot(X_st, w_new)))\n",
    "weights = np.array(w_list)\n",
    "errors = np.array(error_list)"
   ]
  },
  {
   "cell_type": "code",
   "execution_count": 29,
   "metadata": {},
   "outputs": [
    {
     "data": {
      "image/png": "[encoded data removed]",
      "text/plain": [
       "<Figure size 720x360 with 1 Axes>"
      ]
     },
     "metadata": {
      "needs_background": "light"
     },
     "output_type": "display_data"
    }
   ],
   "source": [
    "plt.figure(figsize=(10, 5))\n",
    "plt.xscale('log')\n",
    "#plt.plot(l_list, weights[:, 0], 'mo-', label=r'$w_0$')\n",
    "plt.plot(l_list, weights[:, 1], 'go-', label=r'$w_1$')\n",
    "plt.plot(l_list, weights[:, 2], 'ro-', label=r'$w_2$')\n",
    "plt.plot(l_list, weights[:, 3], 'bo-', label=r'$w_3$')\n",
    "plt.xlabel('Коэффициент L2 регуляризации')\n",
    "plt.ylabel('Веса')\n",
    "plt.grid()\n",
    "plt.legend();"
   ]
  },
  {
   "cell_type": "code",
   "execution_count": 30,
   "metadata": {},
   "outputs": [
    {
     "data": {
      "image/png": "[encoded data removed]",
      "text/plain": [
       "<Figure size 720x360 with 1 Axes>"
      ]
     },
     "metadata": {
      "needs_background": "light"
     },
     "output_type": "display_data"
    }
   ],
   "source": [
    "plt.figure(figsize=(10, 5))\n",
    "plt.xscale('log')\n",
    "plt.plot(l_list, errors, 'o-')\n",
    "plt.xlabel('Коэффициент L2 регуляризации')\n",
    "plt.ylabel('MSE')\n",
    "plt.grid();"
   ]
  },
  {
   "cell_type": "markdown",
   "metadata": {},
   "source": [
    "## Домашние задания"
   ]
  },
  {
   "cell_type": "markdown",
   "metadata": {},
   "source": [
    "1. Сгенерировать датасет при помощи `sklearn.datasets.make_regression` и обучить линейную модель при помощи градиентного спуска и  стохастического градиентного спуска. Построить графики среднеквадратичной ошибки (MSE) от числа итераций для обоих методов на одном рисунке, сделать выводы о разнице скорости сходимости каждого из методов.\n",
    "2. [\\*] Добавить в алгоритм градиентного спуска L1 регуляризацию. Сравнить влияние коэффициентов регуляризации L1 и L2 на величину весов для примера из урока (лучше графически).  \n"
   ]
  },
  {
   "cell_type": "code",
   "execution_count": 31,
   "metadata": {},
   "outputs": [],
   "source": [
    "from sklearn import datasets\n",
    "\n",
    "X_, y_, coef = datasets.make_regression(n_samples=1000, \n",
    "                                      n_features=2, \n",
    "                                      n_informative=2, \n",
    "                                      n_targets=1,\n",
    "                                      noise=5, \n",
    "                                      bias=0, # intersept=0   \n",
    "                                      coef=True, \n",
    "                                      random_state=42)"
   ]
  },
  {
   "cell_type": "code",
   "execution_count": 32,
   "metadata": {},
   "outputs": [
    {
     "data": {
      "text/plain": [
       "array([40.71064891,  6.60098441])"
      ]
     },
     "execution_count": 32,
     "metadata": {},
     "output_type": "execute_result"
    }
   ],
   "source": [
    "coef"
   ]
  },
  {
   "cell_type": "code",
   "execution_count": 33,
   "metadata": {},
   "outputs": [
    {
     "data": {
      "image/png": "[encoded data removed]",
      "text/plain": [
       "<Figure size 432x288 with 1 Axes>"
      ]
     },
     "metadata": {
      "needs_background": "light"
     },
     "output_type": "display_data"
    }
   ],
   "source": [
    "plt.scatter(X_[:, 0], y_);\n",
    "plt.grid()"
   ]
  },
  {
   "cell_type": "code",
   "execution_count": 43,
   "metadata": {},
   "outputs": [
    {
     "name": "stdout",
     "output_type": "stream",
     "text": [
      "100: weights=[7.32874893 1.16801485], MSE=1103.189\n",
      "200: weights=[13.00512448  2.22541594], MSE=767.897\n",
      "300: weights=[17.72134432  3.08125022], MSE=536.838\n",
      "400: weights=[21.63983474  3.77385273], MSE=377.594\n",
      "500: weights=[24.89554186  4.33428243], MSE=267.836\n",
      "600: weights=[27.60058142  4.78770076], MSE=192.180\n",
      "700: weights=[29.84810175  5.15448943], MSE=140.027\n",
      "800: weights=[31.71549299  5.45115674], MSE=104.072\n",
      "900: weights=[33.26705326  5.69107223], MSE=79.283\n",
      "1000: weights=[34.55620366  5.88506234], MSE=62.191\n"
     ]
    }
   ],
   "source": [
    "w_1 = eval_GD(X_,y_, iterations=1000, eta=1e-3)"
   ]
  },
  {
   "cell_type": "code",
   "execution_count": 47,
   "metadata": {},
   "outputs": [
    {
     "name": "stdout",
     "output_type": "stream",
     "text": [
      "100: weights=[5.65425267 1.36197629], MSE=1205.412\n",
      "200: weights=[12.7105185   3.55875223], MSE=777.747\n",
      "300: weights=[17.03707268  4.31522315], MSE=557.260\n",
      "400: weights=[22.08826107  5.2663299 ], MSE=354.413\n",
      "500: weights=[25.87193649  5.6555326 ], MSE=234.136\n",
      "600: weights=[28.44101069  5.83399449], MSE=168.474\n",
      "700: weights=[30.47041536  5.98949961], MSE=126.357\n",
      "800: weights=[32.21255052  6.06519403], MSE=94.853\n",
      "900: weights=[33.73922351  6.1450052 ], MSE=72.050\n",
      "1000: weights=[34.6055792   6.40988743], MSE=60.892\n"
     ]
    }
   ],
   "source": [
    "w_2 = eval_SGD(X_, y_, iterations=1000, eta=1e-3) "
   ]
  },
  {
   "cell_type": "code",
   "execution_count": 59,
   "metadata": {},
   "outputs": [
    {
     "data": {
      "image/png": "[encoded data removed]",
      "text/plain": [
       "<Figure size 720x360 with 1 Axes>"
      ]
     },
     "metadata": {
      "needs_background": "light"
     },
     "output_type": "display_data"
    }
   ],
   "source": [
    "plt.figure(figsize=(10, 5))\n",
    "plt.plot(w_1[0], w_1[1],'go-')\n",
    "plt.plot(w_2[0],w_2[1], 'bo-')\n",
    "plt.xlabel('Number of iterations')\n",
    "plt.ylabel('MSE')\n",
    "plt.grid();"
   ]
  },
  {
   "cell_type": "markdown",
   "metadata": {},
   "source": [
    "### Вывод: \n",
    "#####  большой разницы в скорости спуска для методов обычного и стохастического градиентного спуска при 1000 итераций не наблюдается"
   ]
  },
  {
   "cell_type": "code",
   "execution_count": null,
   "metadata": {},
   "outputs": [],
   "source": []
  }
 ],
 "metadata": {
  "colab": {
   "collapsed_sections": [],
   "name": "Lesson2.ipynb",
   "provenance": []
  },
  "kernelspec": {
   "display_name": "Python 3 (ipykernel)",
   "language": "python",
   "name": "python3"
  },
  "language_info": {
   "codemirror_mode": {
    "name": "ipython",
    "version": 3
   },
   "file_extension": ".py",
   "mimetype": "text/x-python",
   "name": "python",
   "nbconvert_exporter": "python",
   "pygments_lexer": "ipython3",
   "version": "3.9.7"
  },
  "toc": {
   "base_numbering": 1,
   "nav_menu": {},
   "number_sections": false,
   "sideBar": true,
   "skip_h1_title": true,
   "title_cell": "План урока",
   "title_sidebar": "План",
   "toc_cell": true,
   "toc_position": {
    "height": "calc(100% - 180px)",
    "left": "10px",
    "top": "150px",
    "width": "165px"
   },
   "toc_section_display": true,
   "toc_window_display": false
  }
 },
 "nbformat": 4,
 "nbformat_minor": 1
}
